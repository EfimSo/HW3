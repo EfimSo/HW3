{
 "cells": [
  {
   "cell_type": "markdown",
   "metadata": {
    "id": "YWjR-pgsd-Si"
   },
   "source": [
    "# CS640 Homework 3: Neural Networks\n",
    "\n",
    "In this assignment, you will\n",
    "\n",
    "1. derive both forward and backward propagation,\n",
    "2. implement a neural network from scratch, and\n",
    "3. run experiments with your model.\n",
    "\n",
    "### Collaboration\n",
    "You are allowed to work in a team of at most **three** on the coding part(**Q2**), but you must run the experiments and answer written questions independently.\n",
    "\n",
    "## Instructions\n",
    "\n",
    "### General Instructions\n",
    "In an ipython notebook, to run code in a cell or to render [Markdown](https://en.wikipedia.org/wiki/Markdown)+[LaTeX](https://en.wikipedia.org/wiki/LaTeX) press `Ctrl+Enter` or `[>|]`(like \"play\") button above. To edit any code or text cell (double) click on its content. To change cell type, choose \"Markdown\" or \"Code\" in the drop-down menu above.\n",
    "\n",
    "Most of the written questions are followed up a cell for you enter your answers. Please enter your answers in a new line below the **Answer** mark. If you do not see such cell, please insert one by yourself. Your answers and the questions should **not** be in the same cell.\n",
    "\n",
    "### Instructions on Math\n",
    "Some questions require you to enter math expressions. To enter your solutions, put down your derivations into the corresponding cells below using LaTeX. Show all steps when proving statements. If you are not familiar with LaTeX, you should look at some tutorials and at the examples listed below between \\$..\\$. The [OEIS website](https://oeis.org/wiki/List_of_LaTeX_mathematical_symbols) can also be helpful.\n",
    "\n",
    "Alternatively, you can scan your work from paper and insert the image(s) in a text cell.\n",
    "\n",
    "## Submission\n",
    "Once you are ready, save the note book as PDF file (File -> Print -> Save as PDF) and submit via Gradescope. In case some contents cannot be displayed properly in the PDF file, check out this tool: [Colab2PDF](https://github.com/drengskapur/colab2pdf)."
   ]
  },
  {
   "cell_type": "markdown",
   "metadata": {
    "id": "O9ImiOu7jzNu"
   },
   "source": [
    "## Q0: Name(s)\n",
    "\n",
    "Please write your name in the next cell. If you are collaborating with someone, please list their names as well."
   ]
  },
  {
   "cell_type": "markdown",
   "metadata": {
    "id": "R4ldlvqYkyKw"
   },
   "source": [
    "**Efim Sokolov**"
   ]
  },
  {
   "cell_type": "markdown",
   "metadata": {
    "id": "2NkWp9N_jDa0"
   },
   "source": [
    "## Q1: Written Problems\n",
    "\n",
    "Consider a simple neural network with three layers: an input layer, a hidden layer, and an output layer.\n",
    "\n",
    "Let $w^{(1)}$ and $w^{(2)}$ be the layers' weight matrices and let $b^{(1)}$ and $b^{(2)}$ be their biases. For convention, suppose that $w_{ij}$ is the weight between the $i$th node in the previous layer and the $j$th node in the current one.\n",
    "\n",
    "Additionally, the activation function for both layers is the sigmoid function $\\sigma(x) = \\frac{1}{1 + e^{-x}}$. Let $z^{(1)}$ and $z^{(2)}$ be the outputs of the two layers before activation, and let $a^{(1)} = \\sigma(z^{(1)})$ and $a^{(2)} = \\sigma(z^{(2)})$.\n",
    "\n",
    "Lastly, we choose the L2 loss $L(y_{\\text{true}}, y_{\\text{predict}}) = \\frac{1}{2}(y_{\\text{true}} - y_{\\text{predict}})^{2}$ as the loss function.\n"
   ]
  },
  {
   "cell_type": "markdown",
   "metadata": {
    "id": "swVLLpgYmtxv"
   },
   "source": [
    "### Q1.1: Forward Pass\n",
    "Suppose that\n",
    "\n",
    "$w^{(1)} = \\begin{bmatrix}0.4 & 0.6 & 0.2 \\\\ 0.3 & 0.9 & 0.5\\end{bmatrix}$,\n",
    " $b^{(1)} = [1, 1, 1]$; and\n",
    "\n",
    "$w^{(2)} = \\begin{bmatrix}0.2 \\\\ 0.2 \\\\ 0.8\\end{bmatrix}$, $b^{(2)} = [0.5]$.\n",
    "\n",
    "If the input is $a^{(0)} = \\begin{bmatrix}1 \\\\ 1\\end{bmatrix}$, what is the network output? Show your calculation steps and round your **final** answer to 2 digits after decimal.\n",
    "\n",
    "**Note**: You should NOT round any intermediate results."
   ]
  },
  {
   "cell_type": "markdown",
   "metadata": {
    "id": "MmZ7isA1s9rT"
   },
   "source": [
    "$  z^{(1)} = {w^{(1)}}^\\top a^{(0)} + b^{(1)} =  \\begin{bmatrix}  0.7 \\\\  1.5 \\\\ 0.7 \\end{bmatrix} + \\begin{bmatrix}  1 \\\\  1 \\\\ 1 \\end{bmatrix} = \\begin{bmatrix}  1.7 \\\\  2.5 \\\\ 1.7 \\end{bmatrix} \\\\[1 em] $\n",
    "$a^{(1)} = \\sigma(z^{(1)} ) = \\begin{bmatrix}  0.8455347349164652 \\\\ 0.9241418199787566 \\\\ 0.8455347349164652 \\end{bmatrix} \\\\[1 em]$\n",
    "$ z^{(2)} = {w^{(2)}}^\\top a^{(1)} + b^{(2)} = 1.0303630989122166 + 0.5 = 1.5303630989122166 \\\\[1 em]$\n",
    "$ a^{(2)} = \\sigma(z^{(2)}) = 0.822059433706368 \\\\[1 em]$\n",
    "$ a^{(2)} \\approx 0.82$\n"
   ]
  },
  {
   "cell_type": "markdown",
   "metadata": {
    "id": "Rw_yNYW4t2Z0"
   },
   "source": [
    "### Q1.2: Backward Propagation\n",
    "\n",
    "Derive the expressions of the following gradients:\n",
    "1. $\\frac{\\partial L}{\\partial w^{(2)}}$ and $\\frac{\\partial L}{\\partial b^{(2)}}$\n",
    "2. $\\frac{\\partial L}{\\partial w^{(1)}}$ and $\\frac{\\partial L}{\\partial b^{(1)}}$\n",
    "\n",
    "For each gradient, start by deriving the element-level expression using chain rule, and then construct the final answer in matrix form. You can use a self-defined variable(e.g., $\\eta$) to shorten a long expression (especially for the first-layer gradients).\n",
    "\n",
    "An example of your answer should look like the following.\n",
    "\n",
    "\n",
    "---\n",
    "\n",
    "\n",
    "(Element level)\n",
    "\\begin{align}\n",
    "    \\frac{\\partial L}{\\partial w^{(2)}_{i}} &= \\frac{\\partial L}{\\partial a^{(2)}} \\cdot \\frac{\\partial a^{(2)}}{\\partial z^{(2)}} \\cdot \\frac{\\partial z^{(2)}}{\\partial w^{(2)}_{i}} \\text{  (chain rule)}\\\\\n",
    "    &= L'(y_{\\text{true}}, a^{(2)}) \\cdot f'_{2}(z^{(2)}) \\cdot a^{(1)}_{i} \\text{  (substitution)}\\\\\n",
    "    &= ... \\text{  (further substitution and/or simplification if needed)}\n",
    "\\end{align}\n",
    "\n",
    "(Matrix form)\n",
    "\n",
    "$$\\frac{\\partial L}{\\partial w^{(2)}} = ... \\text{  (only the final answer is needed)}$$\n",
    "\n",
    "\n",
    "---\n",
    "\n",
    "\n",
    "\n",
    "**Note**: The derivative of $\\sigma(x)$ is $\\sigma(x)(1 - \\sigma(x))$ if $x$ is a scalar, or $\\sigma(x)\\odot(1 - \\sigma(x))$ if $x$ is a vector."
   ]
  },
  {
   "cell_type": "markdown",
   "metadata": {},
   "source": [
    "### Answer"
   ]
  },
  {
   "cell_type": "markdown",
   "metadata": {
    "id": "y9AkrYYVLnRl"
   },
   "source": [
    "\\begin{align*}\n",
    "    \\frac{\\partial L}{\\partial w^{(2)}_{i}} &= \\frac{\\partial L}{\\partial a^{(2)}} \\cdot \\frac{\\partial a^{(2)}}{\\partial z^{(2)}} \\cdot \\frac{\\partial z^{(2)}}{\\partial w^{(2)}_{i}} \\\\\n",
    "    &= L'(y_{\\text{true}}, a^{(2)}) \\cdot f'_{2}(z^{(2)}) \\cdot a^{(1)}_{i} \\\\\n",
    "    &= 2 (a^{(2)} - y) \\cdot \\sigma'(z^{(2)}) \\cdot a^{(1)}_{i} \\\\ \n",
    "    &= 2 (a^{(2)} - y) \\cdot \\sigma(z^{(2)})(1 - \\sigma(z^{(2)})) \\cdot a^{(1)}_{i} \n",
    "\\end{align*}\n",
    "\n",
    "\\begin{align*}\n",
    "\\frac{\\partial L}{\\partial w^{(2)}} = a^{(2)} {\\eta^{(3)}}^\\top\n",
    "\\end{align*}\n",
    "\n",
    "\\begin{align*}\n",
    "    \\frac{\\partial L}{\\partial b^{(2)}_{i}} &= \\frac{\\partial L}{\\partial a^{(2)}} \\cdot \\frac{\\partial a^{(2)}}{\\partial z^{(2)}} \\cdot \\frac{\\partial z^{(2)}}{\\partial b^{(2)}_{i}} \\\\\n",
    "    &= L'(y_{\\text{true}}, a^{(2)}) \\cdot f'_{2}(z^{(2)}) \\cdot 1 \\\\\n",
    "    &= 2 (a^{(2)} - y) \\cdot \\sigma'(z^{(2)}) \\\\ \n",
    "    &= 2 (a^{(2)} - y) \\cdot \\sigma(z^{(2)})(1 - \\sigma(z^{(2)}))  \n",
    "\\end{align*}\n",
    "\n",
    "\n",
    "\n",
    "\\begin{align*}\n",
    "    \\frac{\\partial L}{\\partial w^{(2)}_{i}} &= \\frac{\\partial L}{\\partial a^{(2)}} \\cdot \\frac{\\partial a^{(2)}}{\\partial z^{(2)}} \\cdot \\frac{\\partial z^{(2)}}{\\partial w^{(2)}_{i}} \\cdot \\frac{\\partial w^{(2)_{i}}}{\\partial a^{(1)}} \\cdot \\frac{\\partial a^{(1)}}{\\partial z^{(1)}} \\cdot \\frac{\\partial z^{(1)}}{\\partial w^{(1)}_{i}} \\\\\n",
    "\\end{align*}\n",
    "\n",
    "\\begin{align*}\n",
    "    \\frac{\\partial L}{\\partial b^{(2)}_{i}} &= \\frac{\\partial L}{\\partial a^{(2)}} \\cdot \\frac{\\partial a^{(2)}}{\\partial z^{(2)}} \\cdot \\frac{\\partial z^{(2)}}{\\partial b^{(2)}_{i}} \\cdot \\frac{\\partial b^{(2)_{i}}}{\\partial a^{(1)}} \\cdot \\frac{\\partial a^{(1)}}{\\partial z^{(1)}} \\cdot \\frac{\\partial z^{(1)}}{\\partial b^{(1)}_{i}} \\\\\n",
    "\\end{align*}\n",
    "\n",
    "\n",
    "\\begin{align*}\n",
    "\\frac{\\partial L}{\\partial w^{(1)}} = a^{(1)} {\\eta^{(2)}}^\\top\n",
    "\\end{align*}\n"
   ]
  },
  {
   "cell_type": "markdown",
   "metadata": {
    "id": "H6AxRuFOlU_B"
   },
   "source": [
    "## Q2: Implementation\n",
    "\n",
    "In this part, you need to construct a neural network model and run a test experiment. We provide a skeleton script of for the model and full script for the test experiment."
   ]
  },
  {
   "cell_type": "markdown",
   "metadata": {
    "id": "ce5gxnBCm7HW"
   },
   "source": [
    "### Q2.0: Import Packages\n",
    "\n",
    "The packages imported in the following block should be sufficient for this problem, but you are free to add more if necessary. However, keep in mind that you **should not** import and use any neural network package. If you have concern about an addition package, please contact us via Piazza."
   ]
  },
  {
   "cell_type": "code",
   "execution_count": 1,
   "metadata": {
    "id": "rLhHI0rOdQJ0"
   },
   "outputs": [],
   "source": [
    "import numpy as np\n",
    "import os, sys"
   ]
  },
  {
   "cell_type": "markdown",
   "metadata": {
    "id": "N9TiTFf9psFl"
   },
   "source": [
    "### Q2.1: Define Activation and Loss Functions\n",
    "\n",
    "Complete the following functions except for `d_softmax`. The ones starting with a \"d\" are the derivatives of the corresponding functions.\n",
    "\n",
    "Definitions:\n",
    "1. sigmoid: $\\sigma(x) = \\frac{1}{1 + e^{-x}}$\n",
    "2. softmax: softmax(x) $= \\frac{e^{x_{i}}}{\\sum_{i} e^{x_{i}}}$\n",
    "3. L2 loss: $L(y_{\\text{true}}, y_{\\text{predict}}) = \\frac{1}{2}(y_{\\text{true}} - y_{\\text{predict}})^{2}$\n",
    "4. cross entropy loss: $L(y_{\\text{true}}, y_{\\text{predict}}) = -\\sum_{i}y_{\\text{true}}[i]\\cdot\\log y_{\\text{predict}}[i]$\n",
    "\n",
    "**Note**: Although you are free to decide the object types of the input parameters, it is best to assume (and follow this assumption in later sections) that they are either scalars (in rare cases) or Numpy arrays.\n",
    "\n",
    "**Clarification**: The softmax function and the cross entropy loss are almost always used in tandem due to the nice chained derivative they produce. However, their individual derivatives are hard to compute. Therefore, we use a function `d_cross_entropy_softmax` as a loss derivative to house the chained derivative, and a trivial function `d_softmax` as a filler for consistency in implementation. This should be clearer in the network implementation section."
   ]
  },
  {
   "cell_type": "code",
   "execution_count": 2,
   "metadata": {
    "id": "yuxWGvbhp5jD"
   },
   "outputs": [],
   "source": [
    "def sigmoid(x):\n",
    "    return 1 / (1 + np.exp(-x))\n",
    "\n",
    "def d_sigmoid(x):\n",
    "    s = sigmoid(x)\n",
    "    return s * (1 - s)\n",
    "\n",
    "def l2_loss(YTrue, YPredict):\n",
    "    return np.mean((YTrue - YPredict) ** 2)\n",
    "\n",
    "def d_l2_loss(YTrue, YPredict):\n",
    "    return 2 * (YPredict - YTrue)\n",
    "\n",
    "def softmax(x):\n",
    "    return np.exp(x) / np.sum(np.exp(x), axis=0, keepdims=True)\n",
    "\n",
    "def d_softmax(x):\n",
    "    return 1.0\n",
    "\n",
    "def cross_entropy_loss(YTrue, YPredict):\n",
    "    return -np.sum(YTrue * np.log(YPredict))\n",
    "\n",
    "def d_cross_entropy_softmax(YTrue, YPredict):\n",
    "    return YPredict - YTrue"
   ]
  },
  {
   "cell_type": "markdown",
   "metadata": {
    "id": "zvhPU4YqoVZF"
   },
   "source": [
    "### Q2.2: Define the Layer Class\n",
    "\n",
    "The following block defines the Layer class. There is nothing you need to do but run the cell."
   ]
  },
  {
   "cell_type": "code",
   "execution_count": 3,
   "metadata": {
    "id": "6r5h0hT8ofqQ"
   },
   "outputs": [],
   "source": [
    "class Layer:\n",
    "    def __init__(self, n_input, n_output, add_bias = True):\n",
    "        self.n_input = n_input\n",
    "        self.n_output = n_output\n",
    "        self.add_bias = add_bias\n",
    "        self.initialize_weights()\n",
    "\n",
    "    def initialize_weights(self):\n",
    "        \"\"\"\n",
    "        Initializes the weights and biases with small random values.\n",
    "        \"\"\"\n",
    "        rng = np.random.default_rng(2) # for reproducibility\n",
    "        self.weights = rng.normal(loc = 0, scale = 1, size = (self.n_input, self.n_output))\n",
    "        if self.add_bias:\n",
    "            self.bias = rng.normal(loc = 0, scale = 1, size = (1, self.n_output))\n"
   ]
  },
  {
   "cell_type": "markdown",
   "metadata": {
    "id": "fXcQsl_XpAOW"
   },
   "source": [
    "### Q2.3: Define the Network Class\n",
    "\n",
    "Complete the `fit` and `predict` functions as instructed in the comments. Do not change their input arguments, but you are free to add functions as necessary. The `__init__` function should be left as it is.\n",
    "\n",
    "*Hint \\#1*: This is the heaviest part of this assignment. We recommend you to first go over the math carefully before starting this part.\n",
    "\n",
    "*Hint \\#2*: You are strongly encouraged to use numpy for matrix operations. When doing multiplication, please be extra careful about the dimensions."
   ]
  },
  {
   "cell_type": "code",
   "execution_count": 66,
   "metadata": {
    "id": "-p1xdHw0pKr8"
   },
   "outputs": [],
   "source": [
    "class Network:\n",
    "    def __init__(self, layers, activation_list, d_activation_list, loss_function, d_loss_function):\n",
    "        self.layers = layers\n",
    "        self.activation_list = activation_list\n",
    "        self.d_activation_list = d_activation_list\n",
    "        self.loss_function = loss_function\n",
    "        self.d_loss_function = d_loss_function\n",
    "\n",
    "    def fit(self, X, Y, epochs, learning_rate, reg_lambda):\n",
    "        \"\"\"\n",
    "        This is the training function. It should return the average loss over samples.\n",
    "        \"\"\"\n",
    "        loss = np.zeros(epochs) # stores loss for each epoch\n",
    "        n_samples = len(X)\n",
    "\n",
    "        for epoch in range(epochs):\n",
    "            current_loss = 0.0 # this should be accumulated over the samples\n",
    "            ######################## start of your code ########################\n",
    "            # first, initialize zero gradients\n",
    "            weight_gradients = [np.zeros_like(layer.weights) for layer in self.layers]\n",
    "            bias_gradients = [np.zeros_like(layer.bias) if layer.add_bias else None for layer in self.layers]\n",
    "\n",
    "             # next, for each sample, do\n",
    "            for sample_index in range(n_samples):\n",
    "                x = X[sample_index]\n",
    "                y = Y[sample_index]\n",
    "                y = Y[sample_index].reshape(1, -1)\n",
    "                activation = x.reshape(1, -1)\n",
    "                activations = [activation]\n",
    "                zs = []\n",
    "\n",
    "                # 1. compute outputs from each layer (via forward propagation);\n",
    "                for layer_index, layer in enumerate(self.layers):\n",
    "                    z = activation @ layer.weights\n",
    "                    if layer.add_bias and bias_gradients[layer_index] is not None:\n",
    "                        z += layer.bias  # Broadcasting\n",
    "                    zs.append(z)\n",
    "                    activation = self.activation_list[layer_index](z)\n",
    "                    activations.append(activation)\n",
    "\n",
    "                # 2. compute and accumulate the current loss over the samples (using self.loss_function); and\n",
    "                current_loss += self.loss_function(activations[-1], y)\n",
    "\n",
    "                # 3. compute and accumulate the gradients (via backward propagation)\n",
    "                # Compute delta at output layer\n",
    "                delta = self.d_loss_function(activations[-1], y) * self.d_activation_list[-1](zs[-1])\n",
    "\n",
    "                # Backward pass\n",
    "                for layer_index in reversed(range(len(self.layers) - 1)): \n",
    "                    activation_prev = activations[layer_index]  # Activation from previous layer\n",
    "                    # Compute gradients\n",
    "                    grad_weights = activation_prev.T @ delta\n",
    "                    weight_gradients[layer_index] += grad_weights\n",
    "                    if self.layers[layer_index].add_bias and bias_gradients[layer_index] is not None:\n",
    "                        grad_biases = delta  # delta is (1, n_output)\n",
    "                        bias_gradients[layer_index] += grad_biases  # Accumulate bias gradients\n",
    "                    if layer_index > 0:\n",
    "                        # Compute delta for previous layer\n",
    "                         delta = (delta @ self.layers[layer_index].weights.T) * self.d_activation_list[layer_index - 1](zs[layer_index - 1]) * activations[layer_index - 1] \n",
    "\n",
    "            # then, update weights and biases using the corresponding mean gradients\n",
    "            # (i.e., accumulated gradient divided by n_samples)\n",
    "            for layer_index, layer in enumerate(self.layers):\n",
    "                # Update weights with L2 regularization\n",
    "                layer.weights -= learning_rate * ((weight_gradients[layer_index] / n_samples) + reg_lambda * layer.weights)\n",
    "                # Update biases\n",
    "                if layer.add_bias and layer.bias is not None:\n",
    "                    layer.bias -= learning_rate * (bias_gradients[layer_index] / n_samples)\n",
    "            ######################## end of your code ##########################\n",
    "            loss[epoch] = current_loss / n_samples\n",
    "        \n",
    "        # lastly, return the average loss\n",
    "        return loss\n",
    "\n",
    "    def predict(self, X, threshold = None):\n",
    "        \"\"\"\n",
    "        This function predicts the labels for samples in X. The parameter threshold\n",
    "        is used when the labels are binary and there is only one node in the final\n",
    "        layer of the network.\n",
    "        \"\"\"\n",
    "        YPredict = np.zeros(len(X))\n",
    "\n",
    "        ######################### start of your code ###########################\n",
    "        # for each sample, run a forward pass and append the predicted label to YPredict\n",
    "        for sample_index in range(len(X)):\n",
    "            x = X[sample_index]\n",
    "            activation = x.reshape(1, -1)\n",
    "            # Forward pass\n",
    "            for layer_index, layer in enumerate(self.layers):\n",
    "                z = activation @ layer.weights\n",
    "                if layer.add_bias:\n",
    "                    z += layer.bias\n",
    "                activation = self.activation_list[layer_index](z)\n",
    "            # Now activation is the output\n",
    "            if threshold is not None and activation.shape[1] == 1:\n",
    "                # Binary classification\n",
    "                YPredict[sample_index] = (activation >= threshold).astype(int).item()\n",
    "            else:\n",
    "                # Multi-class classification\n",
    "                YPredict[sample_index] = np.argmax(activation, axis=1).item()\n",
    "        ######################### end of your code #############################\n",
    "\n",
    "        return YPredict"
   ]
  },
  {
   "cell_type": "markdown",
   "metadata": {
    "id": "3NS8f9qz0fSK"
   },
   "source": [
    "### Q2.4: Test Model\n",
    "\n",
    "Use the following example code to test your model with some simple data.\n",
    "\n",
    "**Make sure to produce a decreasing loss curve here before moving on. A failed model implementation will lead to zero point for all remaining problems.**"
   ]
  },
  {
   "cell_type": "code",
   "execution_count": 67,
   "metadata": {
    "id": "gTyLlzEa0a0U"
   },
   "outputs": [
    {
     "data": {
      "image/png": "[encoded data removed]",
      "text/plain": [
       "<Figure size 600x600 with 1 Axes>"
      ]
     },
     "metadata": {},
     "output_type": "display_data"
    }
   ],
   "source": [
    "import matplotlib.pyplot as plt\n",
    "from matplotlib.ticker import MaxNLocator\n",
    "from sklearn import datasets\n",
    "\n",
    "X, Y = datasets.load_iris(return_X_y = True)\n",
    "X, Y = X[:100, :2], Y[:100]\n",
    "rng = np.random.default_rng(2)\n",
    "indices = [i for i in range(100)]\n",
    "rng.shuffle(indices)\n",
    "X, Y = X[indices], Y[indices]\n",
    "\n",
    "\n",
    "# assemble your model\n",
    "model = Network([Layer(2, 4), Layer(4, 1)],\n",
    "                [sigmoid, sigmoid],\n",
    "                [d_sigmoid, d_sigmoid],\n",
    "                l2_loss, d_l2_loss)\n",
    "\n",
    "# specify training parameters\n",
    "epochs = 1000\n",
    "learning_rate = 1e-2\n",
    "reg_lambda = 0\n",
    "\n",
    "loss = model.fit(X, Y, epochs, learning_rate, reg_lambda)\n",
    "\n",
    "# plot the losses, the curve should be decreasing\n",
    "fig, ax = plt.subplots(figsize = (6, 6))\n",
    "ax.plot([i + 1 for i in range(epochs)], loss)\n",
    "ax.set_title(\"Training Loss\")\n",
    "ax.set_xlabel(\"Epoch\")\n",
    "ax.xaxis.set_major_locator(MaxNLocator(integer=True))\n",
    "ax.grid(True)\n",
    "plt.show()\n"
   ]
  },
  {
   "cell_type": "markdown",
   "metadata": {
    "id": "jGasEudB__Dh"
   },
   "source": [
    "## Q3: Real Data Experiments\n",
    "\n",
    "In this part, you need to try out different model parameter values and observe how they affect the results.\n",
    "\n",
    "For each of the questions below, implement experiments and insert performance scores to the designated dictionary. The performance scores can be computed using the imported functions (for F1 score, you need to specify `average = \"macro\"` when calling the function). You can refer to Q2.4 as an example of implementing experiments.\n",
    "\n",
    "**Note**: Remember to initialize a new instance of your model for each different choice of hyper-parameter."
   ]
  },
  {
   "cell_type": "markdown",
   "metadata": {
    "id": "zA6nhLVxYJdO"
   },
   "source": [
    "### Q3.0: Loading Data\n",
    "\n",
    "Modify the \"data_dir\" variable in the following block and run the cell to load the data. Since the provided dataset contains more than two labels, both \"YTrain\" and \"YTest\" have been converted to one-hot forms.\n",
    "\n",
    "**Note**: Be careful about the shapes of the data variables. Specifically, the one-hot encoded labels are **row vectors**."
   ]
  },
  {
   "cell_type": "code",
   "execution_count": 51,
   "metadata": {
    "id": "H7Pf9GBtMMYK"
   },
   "outputs": [
    {
     "name": "stdout",
     "output_type": "stream",
     "text": [
      "All labels: [0. 1. 2. 3. 4. 5. 6. 7. 8. 9.]\n",
      "XTrain.shape = (898, 64)\n",
      "XTest.shape = (899, 64)\n",
      "YTrain.shape = (898, 1)\n",
      "YTrain_encoded.shape = (898, 10)\n",
      "YTest.shape  (899, 1)\n",
      "YTest_encoded.shape  (899, 10)\n"
     ]
    }
   ],
   "source": [
    "import pandas\n",
    "from sklearn.preprocessing import OneHotEncoder\n",
    "from sklearn.metrics import accuracy_score, f1_score\n",
    "import matplotlib.pyplot as plt\n",
    "\n",
    "data_dir = \"dataset\" # input the path to \"dataset\" directory\n",
    "df_X_train = pandas.read_csv(os.path.join(data_dir, \"Digit_X_train.csv\"), header = None)\n",
    "df_X_test = pandas.read_csv(os.path.join(data_dir, \"Digit_X_test.csv\"), header = None)\n",
    "df_y_train = pandas.read_csv(os.path.join(data_dir, \"Digit_y_train.csv\"), header = None)\n",
    "df_y_test = pandas.read_csv(os.path.join(data_dir, \"Digit_y_test.csv\"), header = None)\n",
    "XTrain, XTest = df_X_train.values, df_X_test.values\n",
    "YTrain, YTest = df_y_train.values, df_y_test.values\n",
    "print(\"All labels: \" + str(np.unique(YTrain)))\n",
    "\n",
    "# encode multi-class labels\n",
    "encoder = OneHotEncoder(sparse_output = False)\n",
    "YTrain_encoded = encoder.fit_transform(YTrain)\n",
    "YTest_encoded = encoder.transform(YTest)\n",
    "\n",
    "print(\"XTrain.shape = \" + str(XTrain.shape))\n",
    "print(\"XTest.shape = \" + str(XTest.shape))\n",
    "print(\"YTrain.shape = \" + str(YTrain.shape))\n",
    "print(\"YTrain_encoded.shape = \" + str(YTrain_encoded.shape))\n",
    "print(\"YTest.shape  \" + str(YTest.shape))\n",
    "print(\"YTest_encoded.shape  \" + str(YTest_encoded.shape))"
   ]
  },
  {
   "cell_type": "markdown",
   "metadata": {
    "id": "UyItn83F-tBV"
   },
   "source": [
    "### Q3.1: Epochs\n",
    "\n",
    "Experiment with **five** different choices of total epochs."
   ]
  },
  {
   "cell_type": "code",
   "execution_count": 7,
   "metadata": {},
   "outputs": [],
   "source": [
    "def calculate_metrics(y_true, y_pred, scores):\n",
    "    TP, FP, FN = 0, 0, 0 \n",
    "    for i, y_hat in enumerate(y_pred):\n",
    "        if y_hat == 1 and y_true[i] == 1:\n",
    "            TP += 1\n",
    "        elif y_hat == 0 and y_true[i] == 1:\n",
    "            FN += 1\n",
    "        elif y_hat == 1 and y_true[i] == 0:\n",
    "            TP += FP\n",
    "    precision = TP / (TP + FP)\n",
    "    recall = TP / (TP + FN)\n",
    "    F1 = 2 * precision * recall / (precision + recall)\n",
    "    scores[\"F1 (Macro)\"].append(F1)\n",
    "    scores[\"Accuracy\"].append(np.mean(y_pred == y_true))"
   ]
  },
  {
   "cell_type": "code",
   "execution_count": null,
   "metadata": {
    "id": "X6cKLcwf_K7D"
   },
   "outputs": [],
   "source": [
    "scores_train = {\"Accuracy\" : [], \"F1 (Macro)\" : []}\n",
    "scores_test = {\"Accuracy\" : [], \"F1 (Macro)\" : []}\n",
    "\n",
    "############################## start of your code ##############################\n",
    "epochs = [50, 100, 300, 1000, 3000] # fill the list with your five epoch choices in increasing order\n",
    "\n",
    "# implement experiments and fill the lists in \"scores_train\" and\n",
    "# \"scores_test\" (one entry per epoch value)\n",
    "for epoch in epochs:\n",
    "    model = Network([Layer(64, 32), Layer(32, 10)],\n",
    "                [sigmoid, sigmoid],\n",
    "                [d_sigmoid, d_sigmoid],\n",
    "                l2_loss, d_l2_loss)\n",
    "    loss = model.fit(XTrain, YTrain_encoded, epoch, 1e-3, 1e-3)\n",
    "    Y_pred = model.predict(XTrain)[0]\n",
    "    calculate_metrics(YTrain_encoded, Y_pred, scores_train)\n",
    "\n",
    "    Y_pred = model.predict(XTest)[0]\n",
    "    calculate_metrics(YTest_encoded, Y_pred, scores_test)\n",
    "############################### end of your code ###############################\n",
    "\n",
    "fig, axes = plt.subplots(1, 2, figsize = (10, 4))\n",
    "for i, key in enumerate([\"Accuracy\", \"F1 (Macro)\"]):\n",
    "    axes[i].plot(epochs, scores_train[key], \"-o\", label = \"train\")\n",
    "    axes[i].plot(epochs, scores_test[key], \"-o\", label = \"test\")\n",
    "    axes[i].set_title(key)\n",
    "    axes[i].set_ylim([0, 1])\n",
    "    axes[i].legend()\n",
    "    axes[i].grid(True)\n",
    "plt.show()"
   ]
  },
  {
   "cell_type": "markdown",
   "metadata": {
    "id": "JwDcgfbpDHF4"
   },
   "source": [
    "### Q3.2: Learning Rate\n",
    "\n",
    "Experiment with **five** different choices of learning rates."
   ]
  },
  {
   "cell_type": "code",
   "execution_count": null,
   "metadata": {
    "id": "LEMZuxy9DRAg"
   },
   "outputs": [],
   "source": [
    "scores_train = {\"Accuracy\" : [], \"F1 (Macro)\" : []}\n",
    "scores_test = {\"Accuracy\" : [], \"F1 (Macro)\" : []}\n",
    "\n",
    "############################## start of your code ##############################\n",
    "LRs = [1e-4, 1e-3, 1e-2, 1e-1, 0.5] # fill the list with your five LR choices in increasing order\n",
    "\n",
    "# implement experiments and fill the lists in \"scores_train\" and\n",
    "# \"scores_test\" (one entry per LR value)\n",
    "x_train, y_train = [], []\n",
    "x_pred, y_pred = [], []\n",
    "\n",
    "def run_experiment():\n",
    "    for lr in LRs:\n",
    "        model = Network([Layer(64, 32), Layer(32, 10)],\n",
    "                    [sigmoid, sigmoid],\n",
    "                    [d_sigmoid, d_sigmoid],\n",
    "                    l2_loss, d_l2_loss)\n",
    "        loss = model.fit(XTrain, YTrain_encoded, 300, lr, 1e-3)\n",
    "        Y_pred = model.predict(XTrain)[0]\n",
    "        calculate_metrics(YTrain_encoded, Y_pred, scores_train)\n",
    "\n",
    "        Y_pred = model.predict(XTest)[0]\n",
    "        calculate_metrics(YTest_encoded, Y_pred, scores_test)\n",
    "        \n",
    "run_experiment()\n",
    "############################### end of your code ###############################\n",
    "\n",
    "fig, axes = plt.subplots(1, 2, figsize = (10, 4))\n",
    "for i, key in enumerate([\"Accuracy\", \"F1 (Macro)\"]):\n",
    "    axes[i].plot(LRs, scores_train[key], \"-o\", label = \"train\")\n",
    "    axes[i].plot(LRs, scores_test[key], \"-o\", label = \"test\")\n",
    "    axes[i].set_title(key)\n",
    "    axes[i].set_ylim([0, 1])\n",
    "    axes[i].legend()\n",
    "    axes[i].grid(True)\n",
    "plt.show()"
   ]
  },
  {
   "cell_type": "markdown",
   "metadata": {
    "id": "96i2ZAsBDTaZ"
   },
   "source": [
    "### Q3.3: Regularization Parameter\n",
    "\n",
    "Experiment with **five** different choices of regularization parameter."
   ]
  },
  {
   "cell_type": "code",
   "execution_count": null,
   "metadata": {
    "id": "ANhxVaLcDfjn"
   },
   "outputs": [],
   "source": [
    "scores_train = {\"Accuracy\" : [], \"F1 (Macro)\" : []}\n",
    "scores_test = {\"Accuracy\" : [], \"F1 (Macro)\" : []}\n",
    "\n",
    "############################## start of your code ##############################\n",
    "lambdas = [0, 0.01, 0.1, 0.5, 1] # fill the list with your five regularization lambda choices in increasing order\n",
    "\n",
    "# implement experiments and fill the lists in \"scores_train\" and\n",
    "# \"scores_test\" (one entry per reg_lambda value)\n",
    "def run_experiment():\n",
    "    for lam in lambdas:\n",
    "        model = Network([Layer(64, 32), Layer(32, 10)],\n",
    "                    [sigmoid, sigmoid],\n",
    "                    [d_sigmoid, d_sigmoid],\n",
    "                    l2_loss, d_l2_loss)\n",
    "        loss = model.fit(XTrain, YTrain_encoded, 300, 1e-3, lam)\n",
    "        Y_pred = model.predict(XTrain)[0]\n",
    "        calculate_metrics(YTrain_encoded, Y_pred, scores_train)\n",
    "\n",
    "        Y_pred = model.predict(XTest)[0]\n",
    "        calculate_metrics(YTest_encoded, Y_pred, scores_test)\n",
    "        \n",
    "run_experiment()\n",
    "############################### end of your code ###############################\n",
    "\n",
    "fig, axes = plt.subplots(1, 2, figsize = (10, 4))\n",
    "for i, key in enumerate([\"Accuracy\", \"F1 (Macro)\"]):\n",
    "    axes[i].plot(lambdas, scores_train[key], \"-o\", label = \"train\")\n",
    "    axes[i].plot(lambdas, scores_test[key], \"-o\", label = \"test\")\n",
    "    axes[i].set_title(key)\n",
    "    axes[i].set_ylim([0, 1])\n",
    "    axes[i].legend()\n",
    "    axes[i].grid(True)\n",
    "plt.show()"
   ]
  },
  {
   "cell_type": "markdown",
   "metadata": {
    "id": "N_LjwNPkDgyq"
   },
   "source": [
    "### Q3.4: Network Structure\n",
    "\n",
    "Experiment with **five** different choices of network structure. This includes number of layers and number of nodes in each layer.\n",
    "\n",
    "*Hint*: Try experimenting with increasing complexity. You may need to hard-code the experiments without using a for loop.\n"
   ]
  },
  {
   "cell_type": "code",
   "execution_count": null,
   "metadata": {
    "id": "zae3B1jqFhHd"
   },
   "outputs": [],
   "source": [
    "levels = [1, 2, 3, 4, 5]\n",
    "scores_train = {\"Accuracy\" : [], \"F1 (Macro)\" : []}\n",
    "scores_test = {\"Accuracy\" : [], \"F1 (Macro)\" : []}\n",
    "architectures = [\n",
    "    [Layer(64, 32), Layer(32, 10)],\n",
    "    [Layer(64, 32), Layer(32, 16), Layer(16, 10)],\n",
    "    [Layer(64, 64), Layer(64, 32), Layer(32, 16), Layer(16, 10)],\n",
    "    [Layer(64, 128), Layer(128, 64), Layer(64, 32), Layer(32, 16), Layer(16, 10)],\n",
    "    [Layer(64, 256), Layer(256, 128), Layer(128, 64), Layer(64, 32), Layer(32, 16), Layer(16, 10)]\n",
    "]\n",
    "############################## start of your code ##############################\n",
    "# implement experiments and fill the lists in \"scores_train\" and\n",
    "# \"scores_test\" (one entry per complexity level)\n",
    "def run_experiment():\n",
    "    for i in range(len(architectures)):\n",
    "        model = Network(architectures[i],\n",
    "                    [sigmoid, sigmoid],\n",
    "                    [d_sigmoid, d_sigmoid],\n",
    "                    l2_loss, d_l2_loss)\n",
    "        loss = model.fit(XTrain, YTrain_encoded, 300, 1e-3, 1e-3)\n",
    "        Y_pred = model.predict(XTrain)[0]\n",
    "        calculate_metrics(YTrain_encoded, Y_pred, scores_train)\n",
    "\n",
    "        Y_pred = model.predict(XTest)[0]\n",
    "        calculate_metrics(YTest_encoded, Y_pred, scores_test)\n",
    "        \n",
    "run_experiment()\n",
    "############################### end of your code ###############################\n",
    "\n",
    "fig, axes = plt.subplots(1, 2, figsize = (10, 4))\n",
    "for i, key in enumerate([\"Accuracy\", \"F1 (Macro)\"]):\n",
    "    axes[i].plot(levels, scores_train[key], \"-o\", label = \"train\")\n",
    "    axes[i].plot(levels, scores_test[key], \"-o\", label = \"test\")\n",
    "    axes[i].set_title(key)\n",
    "    axes[i].set_ylim([0, 1])\n",
    "    axes[i].legend()\n",
    "    axes[i].grid(True)\n",
    "plt.show()"
   ]
  },
  {
   "cell_type": "markdown",
   "metadata": {
    "id": "pmRKZaJPFpm1"
   },
   "source": [
    "## Q4: Follow-up Questions\n",
    "\n",
    "For each question below, provide a short answer. You can cite your code if needed."
   ]
  },
  {
   "cell_type": "markdown",
   "metadata": {
    "id": "MPFklnbuAwg_"
   },
   "source": [
    "### Q4.1: Briefly describe the workflow of how your model classifies the data."
   ]
  },
  {
   "cell_type": "markdown",
   "metadata": {
    "id": "q8RYC8yiBEvU"
   },
   "source": [
    "The model classifies data by first training a neural network using supervised learning on the provided dataset. During training, it performs forward propagation to compute the outputs for each input sample and then calculates the loss using the cross-entropy loss function. It then conducts backward propagation to update the network's weights and biases based on the gradients of the loss with respect to these parameters. After training, the model predicts the class labels of new, unseen data by feeding the inputs through the network (forward propagation) and using the softmax activation function in the output layer to obtain probabilities for each class. The class with the highest probability is selected as the predicted label for each input sample."
   ]
  },
  {
   "cell_type": "markdown",
   "metadata": {
    "id": "ZJ6k2vbJBFcU"
   },
   "source": [
    "### Q4.2: In your own words, explain how the forward propagation in your model works."
   ]
  },
  {
   "cell_type": "markdown",
   "metadata": {
    "id": "eZSqrQX-BofT"
   },
   "source": [
    "During forward propagation, the model processes input data by passing it through each layer of the neural network sequentially. For each layer, it computes the weighted sum of the inputs and the layer's weights, adds a bias term if applicable, and then applies an activation function to introduce non-linearity. Specifically, the hidden layers use the sigmoid activation function to capture complex patterns in the data. In the output layer, the model applies the softmax activation function to convert the final linear outputs into probabilities that sum to one across all classes. This process transforms the original input features into a final output that represents the model's confidence in each possible class label."
   ]
  },
  {
   "cell_type": "markdown",
   "metadata": {
    "id": "xDkm7LCOBpOZ"
   },
   "source": [
    "### Q4.3: In your own words, explain how the backward propagation in your model works."
   ]
  },
  {
   "cell_type": "markdown",
   "metadata": {
    "id": "WDgKWePgHHpB"
   },
   "source": [
    "Backward propagation in the model involves computing gradients of the loss function with respect to the network's weights and biases to update them in a way that minimizes the loss. It begins by calculating the error at the output layer, which, due to the use of softmax activation and cross-entropy loss, simplifies to the difference between the predicted probabilities and the one-hot encoded true labels. This error (delta) is then propagated backward through the network by applying the chain rule, multiplying it by the derivative of the activation function of each preceding layer to determine how changes in weights affect the loss. At each layer, the model computes the gradients of the weights by taking the dot product of the transposed activations from the previous layer and the delta, and updates the biases directly using the delta. These gradients are accumulated over all samples, and the model updates the weights and biases by subtracting a fraction of the gradients (scaled by the learning rate and adjusted for regularization) to reduce the overall loss in subsequent iterations."
   ]
  },
  {
   "cell_type": "markdown",
   "metadata": {
    "id": "u4v_t-JdB726"
   },
   "source": [
    "### Q4.4: In theory, how do the total number of epochs, the learning rate, and the regularization parameter impact the performance of model? Does any of the theoretical impact actually happen in your result? If so, point them out."
   ]
  },
  {
   "cell_type": "markdown",
   "metadata": {
    "id": "1zFnMPEJG53C"
   },
   "source": [
    "**[Answer]**\n",
    "\n",
    "**Epochs** \n",
    "The total number of epochs determines how many times the model iterates over the entire training dataset; more epochs allow the model to learn more from the data but can lead to overfitting if the model fits the training data too closely, and the predictions do not generalize well to unseen data.\n",
    "\n",
    "**Learning Rate**\n",
    "The learning rate controls the size of the weight updates during training; a higher learning rate can speed up convergence but may cause the model to overshoot minima in the loss function, while a lower learning rate ensures more precise updates but can make training slow and potentially get stuck in local minima.\n",
    "\n",
    "**Regularization Parameter**\n",
    "The regularization parameter adds a penalty for larger weights in the loss function to prevent overfitting; increasing this parameter encourages the model to keep weights small, promoting simplicity and improving generalization to new data, but setting it too high can lead to underfitting by overly restricting the model's capacity to learn from the data."
   ]
  }
 ],
 "metadata": {
  "colab": {
   "provenance": []
  },
  "kernelspec": {
   "display_name": "Python 3 (ipykernel)",
   "language": "python",
   "name": "python3"
  },
  "language_info": {
   "codemirror_mode": {
    "name": "ipython",
    "version": 3
   },
   "file_extension": ".py",
   "mimetype": "text/x-python",
   "name": "python",
   "nbconvert_exporter": "python",
   "pygments_lexer": "ipython3",
   "version": "3.12.5"
  }
 },
 "nbformat": 4,
 "nbformat_minor": 4
}
